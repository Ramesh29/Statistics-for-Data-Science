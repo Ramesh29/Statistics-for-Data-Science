{
 "cells": [
  {
   "cell_type": "markdown",
   "metadata": {},
   "source": [
    "## Assignment 1"
   ]
  },
  {
   "cell_type": "markdown",
   "metadata": {},
   "source": [
    "##### Q1. Create side-by-side boxplots for the number of mosquitoes in each group (beer vs water)"
   ]
  },
  {
   "cell_type": "code",
   "execution_count": 17,
   "metadata": {},
   "outputs": [],
   "source": [
    "# import pandas\n",
    "import pandas as pd\n",
    "#import numpy\n",
    "import numpy as np\n",
    "# import matplotlib\n",
    "import matplotlib.pyplot as plt\n",
    "# import seaborn\n",
    "import seaborn as sns\n",
    "%matplotlib inline"
   ]
  },
  {
   "cell_type": "code",
   "execution_count": 13,
   "metadata": {},
   "outputs": [
    {
     "data": {
      "text/plain": [
       "<matplotlib.axes._subplots.AxesSubplot at 0x28069487470>"
      ]
     },
     "execution_count": 13,
     "metadata": {},
     "output_type": "execute_result"
    },
    {
     "data": {
      "image/png": "[encoded data removed]",
      "text/plain": [
       "<Figure size 432x288 with 1 Axes>"
      ]
     },
     "metadata": {
      "needs_background": "light"
     },
     "output_type": "display_data"
    }
   ],
   "source": [
    "data_url = 'mosquitos_data-2.csv'\n",
    "# read data from url as pandas dataframe\n",
    "mosquitos_data = pd.read_csv(data_url)\n",
    "# Create boxplots\n",
    "sns.boxplot(y='Response', x='Treatment', \n",
    "                 data=mosquitos_data, \n",
    "                 palette=\"colorblind\",\n",
    "         )"
   ]
  },
  {
   "cell_type": "markdown",
   "metadata": {},
   "source": [
    "#### Q2. What does the graph reveal about the data for both groups? Is there an association between beer consumption and attractiveness to mosquitoes?\n",
    "\n",
    "Box plot indicates reponse for beer treatment is much higher than the response for water treatment. So it can be stated that beer consumption seems to attract more mosquitos."
   ]
  },
  {
   "cell_type": "markdown",
   "metadata": {},
   "source": [
    "##### Q3. Calculate basic statistics measures for each group: the mean, median, standard deviation and explain the numbers."
   ]
  },
  {
   "cell_type": "markdown",
   "metadata": {},
   "source": [
    "##### Statistics for beer treatment group ( see output below ) :\n",
    "min = 17,\n",
    "mean = 23.6,\n",
    "max = 31,\n",
    "median = 24,\n",
    "std = 4.133\n",
    "\n",
    "\n",
    "##### Statistics for water treatment group ( see output below ):\n",
    "min = 12,\n",
    "mean = 19.22,\n",
    "max = 24,\n",
    "median = 20,\n",
    "std = 3.67\n",
    "\n",
    "Response data beer treatment group shows higher values for most of its statistical measures as its response values\n",
    "are much higher than that of water treatment group.\n"
   ]
  },
  {
   "cell_type": "code",
   "execution_count": 14,
   "metadata": {},
   "outputs": [
    {
     "data": {
      "text/html": [
       "<div>\n",
       "<style scoped>\n",
       "    .dataframe tbody tr th:only-of-type {\n",
       "        vertical-align: middle;\n",
       "    }\n",
       "\n",
       "    .dataframe tbody tr th {\n",
       "        vertical-align: top;\n",
       "    }\n",
       "\n",
       "    .dataframe thead th {\n",
       "        text-align: right;\n",
       "    }\n",
       "</style>\n",
       "<table border=\"1\" class=\"dataframe\">\n",
       "  <thead>\n",
       "    <tr style=\"text-align: right;\">\n",
       "      <th></th>\n",
       "      <th>Response</th>\n",
       "    </tr>\n",
       "  </thead>\n",
       "  <tbody>\n",
       "    <tr>\n",
       "      <th>count</th>\n",
       "      <td>25.000000</td>\n",
       "    </tr>\n",
       "    <tr>\n",
       "      <th>mean</th>\n",
       "      <td>23.600000</td>\n",
       "    </tr>\n",
       "    <tr>\n",
       "      <th>std</th>\n",
       "      <td>4.133199</td>\n",
       "    </tr>\n",
       "    <tr>\n",
       "      <th>min</th>\n",
       "      <td>17.000000</td>\n",
       "    </tr>\n",
       "    <tr>\n",
       "      <th>25%</th>\n",
       "      <td>20.000000</td>\n",
       "    </tr>\n",
       "    <tr>\n",
       "      <th>50%</th>\n",
       "      <td>24.000000</td>\n",
       "    </tr>\n",
       "    <tr>\n",
       "      <th>75%</th>\n",
       "      <td>27.000000</td>\n",
       "    </tr>\n",
       "    <tr>\n",
       "      <th>max</th>\n",
       "      <td>31.000000</td>\n",
       "    </tr>\n",
       "  </tbody>\n",
       "</table>\n",
       "</div>"
      ],
      "text/plain": [
       "        Response\n",
       "count  25.000000\n",
       "mean   23.600000\n",
       "std     4.133199\n",
       "min    17.000000\n",
       "25%    20.000000\n",
       "50%    24.000000\n",
       "75%    27.000000\n",
       "max    31.000000"
      ]
     },
     "execution_count": 14,
     "metadata": {},
     "output_type": "execute_result"
    }
   ],
   "source": [
    "# statistics for Beer treatment\n",
    "beer_df = mosquitos_data[mosquitos_data['Treatment'] == 'Beer']\n",
    "beer_df.describe()"
   ]
  },
  {
   "cell_type": "code",
   "execution_count": 15,
   "metadata": {},
   "outputs": [
    {
     "data": {
      "text/html": [
       "<div>\n",
       "<style scoped>\n",
       "    .dataframe tbody tr th:only-of-type {\n",
       "        vertical-align: middle;\n",
       "    }\n",
       "\n",
       "    .dataframe tbody tr th {\n",
       "        vertical-align: top;\n",
       "    }\n",
       "\n",
       "    .dataframe thead th {\n",
       "        text-align: right;\n",
       "    }\n",
       "</style>\n",
       "<table border=\"1\" class=\"dataframe\">\n",
       "  <thead>\n",
       "    <tr style=\"text-align: right;\">\n",
       "      <th></th>\n",
       "      <th>Response</th>\n",
       "    </tr>\n",
       "  </thead>\n",
       "  <tbody>\n",
       "    <tr>\n",
       "      <th>count</th>\n",
       "      <td>18.000000</td>\n",
       "    </tr>\n",
       "    <tr>\n",
       "      <th>mean</th>\n",
       "      <td>19.222222</td>\n",
       "    </tr>\n",
       "    <tr>\n",
       "      <th>std</th>\n",
       "      <td>3.671120</td>\n",
       "    </tr>\n",
       "    <tr>\n",
       "      <th>min</th>\n",
       "      <td>12.000000</td>\n",
       "    </tr>\n",
       "    <tr>\n",
       "      <th>25%</th>\n",
       "      <td>16.500000</td>\n",
       "    </tr>\n",
       "    <tr>\n",
       "      <th>50%</th>\n",
       "      <td>20.000000</td>\n",
       "    </tr>\n",
       "    <tr>\n",
       "      <th>75%</th>\n",
       "      <td>22.000000</td>\n",
       "    </tr>\n",
       "    <tr>\n",
       "      <th>max</th>\n",
       "      <td>24.000000</td>\n",
       "    </tr>\n",
       "  </tbody>\n",
       "</table>\n",
       "</div>"
      ],
      "text/plain": [
       "        Response\n",
       "count  18.000000\n",
       "mean   19.222222\n",
       "std     3.671120\n",
       "min    12.000000\n",
       "25%    16.500000\n",
       "50%    20.000000\n",
       "75%    22.000000\n",
       "max    24.000000"
      ]
     },
     "execution_count": 15,
     "metadata": {},
     "output_type": "execute_result"
    }
   ],
   "source": [
    "# statistics for water group\n",
    "water_df = mosquitos_data[mosquitos_data['Treatment'] == 'Water']\n",
    "water_df.describe()"
   ]
  },
  {
   "cell_type": "markdown",
   "metadata": {},
   "source": [
    "#### Q4. Write the code to implement the data simulation demonstrated in the above mentioned video. Calculate the probability of obtaining the experiment outcome.\n",
    "\n",
    "Ho : Response time is same under both water and beer treatment group.\n",
    "\n",
    "As the output below shows obtaining means difference greater than *observed* mean (delta)is 0.0006 and it is less than 5%. So we reject Ho and concludes that beer consumption attracts more mosquitos.\n"
   ]
  },
  {
   "cell_type": "code",
   "execution_count": 30,
   "metadata": {},
   "outputs": [
    {
     "name": "stdout",
     "output_type": "stream",
     "text": [
      "probability of having means difference more than observed  4.37777777777778  difference(delta) is :  0.0006\n"
     ]
    }
   ],
   "source": [
    "# method to run the permutation test\n",
    "def run_permutation_test( pooled , sizeZ, sizeY, delta):\n",
    "    np.random.shuffle(pooled)\n",
    "    starZ = pooled[:sizeZ]\n",
    "    starY = pooled[-sizeY:]\n",
    "    return abs(starZ.mean() - starY.mean())\n",
    "\n",
    "# array contains response time for beer treatment group\n",
    "z = np.array(beer_df['Response'].tolist())  \n",
    "# array contains response time for water treatement group\n",
    "y = np.array(water_df['Response'].tolist()) \n",
    "# *observed* mean difference between both treatment\n",
    "delta = abs(z.mean() - y.mean())\n",
    "# number of time simulation runs\n",
    "numSamples = 10000 \n",
    "# contains means that is greater than *observed* means\n",
    "estimates = [] \n",
    "\n",
    "# combine both arrays\n",
    "pooled = np.hstack([z,y])\n",
    "# run the simulation for numSamples time \n",
    "for i in range( numSamples ):\n",
    "    val = run_permutation_test(pooled, z.size, y.size, delta)\n",
    "    estimates.append(val)\n",
    "    \n",
    "es = np.asarray(estimates)\n",
    "\n",
    "# calculate the p value : probability of diff of means of two groups larger than observed ( delta )\n",
    "diffCount = len ( np.where( es > delta)[0])\n",
    "pvalue = diffCount / float(numSamples)\n",
    "print (\"probability of having means difference more than observed \" , delta  , \" difference(delta) is : \", pvalue )"
   ]
  },
  {
   "cell_type": "code",
   "execution_count": null,
   "metadata": {},
   "outputs": [],
   "source": []
  }
 ],
 "metadata": {
  "kernelspec": {
   "display_name": "Python 3",
   "language": "python",
   "name": "python3"
  },
  "language_info": {
   "codemirror_mode": {
    "name": "ipython",
    "version": 3
   },
   "file_extension": ".py",
   "mimetype": "text/x-python",
   "name": "python",
   "nbconvert_exporter": "python",
   "pygments_lexer": "ipython3",
   "version": "3.7.1"
  }
 },
 "nbformat": 4,
 "nbformat_minor": 2
}
